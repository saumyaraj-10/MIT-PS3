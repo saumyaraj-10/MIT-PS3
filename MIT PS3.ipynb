{
 "cells": [
  {
   "cell_type": "code",
   "execution_count": 1,
   "metadata": {},
   "outputs": [],
   "source": [
    "import pandas as pd\n",
    "import numpy as np\n",
    "import random"
   ]
  },
  {
   "cell_type": "code",
   "execution_count": 2,
   "metadata": {},
   "outputs": [],
   "source": [
    "scrabble_values={'A':9, 'B':2, 'C':2, 'D':4, 'E':12, 'F':2, 'G':3, 'H':2, 'I':9, 'J':1, 'K':1, 'L':4, 'M':2, 'N':6, 'O':8, 'P':2, \n",
    "                 'Q':1, 'R':6, 'S':4, 'T':6, 'U':4, 'V':2, 'W':2, 'X':1, 'Y':2, 'Z':1, 'Blanks':2}"
   ]
  },
  {
   "cell_type": "code",
   "execution_count": 3,
   "metadata": {},
   "outputs": [],
   "source": [
    "scrabble_values={k.lower():v for (k,v) in scrabble_values.items()}\n"
   ]
  },
  {
   "cell_type": "code",
   "execution_count": 4,
   "metadata": {},
   "outputs": [],
   "source": [
    "words=open(r\"C:\\Users\\s156924\\Documents\\Personal\\DS\\Books\\ps2\\words.txt\",\"r\")\n",
    "valid_words=words.read()"
   ]
  },
  {
   "cell_type": "code",
   "execution_count": 5,
   "metadata": {},
   "outputs": [],
   "source": [
    "#score of each word\n",
    "def get_word_score(word,hand):\n",
    "    first_component=0\n",
    "    second_component=0\n",
    "    #first component is sum of the points for letters in the word\n",
    "    for letter in word:\n",
    "        first_component+=scrabble_values[letter]\n",
    "    \n",
    "    word_length=len(word)\n",
    "    n=len(hand)#no of letters in hand\n",
    "    #second component is max of 1 or 7*word_length-3*(n-word_length)\n",
    "    second_component=max(7*word_length-3*(n-word_length),1)\n",
    "    return (first_component+second_component)"
   ]
  },
  {
   "cell_type": "code",
   "execution_count": 6,
   "metadata": {},
   "outputs": [],
   "source": [
    "#words as dictionary\n",
    "def get_frequency_dict(word):\n",
    "    word_dic={}\n",
    "    for letter in list(word):\n",
    "        frequency=word_dic.setdefault(letter,0)\n",
    "        word_dic[letter]=frequency+1\n",
    "    return word_dic"
   ]
  },
  {
   "cell_type": "code",
   "execution_count": 7,
   "metadata": {},
   "outputs": [],
   "source": [
    "#display letters available in a hand\n",
    "def display_hand(hand):\n",
    "    hand_fordisplay=''\n",
    "    for key,value in sorted(hand.items()):\n",
    "        for num in range(value):\n",
    "            hand_fordisplay=hand_fordisplay+key+' '\n",
    "    return hand_fordisplay"
   ]
  },
  {
   "cell_type": "code",
   "execution_count": 8,
   "metadata": {},
   "outputs": [],
   "source": [
    "#letters available in a hand\n",
    "import string\n",
    "lower_alphabet=string.ascii_letters.lower()\n",
    "def deal_hand(n):\n",
    "    hand={}\n",
    "    for num in range(n):\n",
    "        random_letter=random.choice(lower_alphabet)\n",
    "        freq=hand.setdefault(random_letter,0)\n",
    "        hand[random_letter]=freq+1\n",
    "    return hand"
   ]
  },
  {
   "cell_type": "code",
   "execution_count": null,
   "metadata": {},
   "outputs": [],
   "source": [
    "#update hand after a round\n",
    "def update_hand(hand,word):\n",
    "    input_hand=hand\n",
    "    output_hand={}\n",
    "    for key,value in input_hand.items():\n",
    "        if key in list(word):\n",
    "            output_hand[key]=input_hand[key]-1\n",
    "        else:\n",
    "            output_hand[key]=input_hand[key]\n",
    "    output_hand={k:v for k,v in output_hand.items() if v>0}\n",
    "    return output_hand"
   ]
  },
  {
   "cell_type": "code",
   "execution_count": null,
   "metadata": {},
   "outputs": [],
   "source": [
    "#check if word is valid\n",
    "def is_valid_word(hand,word):\n",
    "    test=0\n",
    "    actual_word=False\n",
    "    #checking is actual word\n",
    "    for right_word in valid_words.split(' '):\n",
    "        if right_word==word: \n",
    "            actual_word=True\n",
    "                    \n",
    "    #checking if word made from letters in hand    \n",
    "    for letter in list(word):\n",
    "        if letter in hand.keys():\n",
    "            hand[letter]-=1\n",
    "        else:\n",
    "            test=1\n",
    "            break\n",
    "            \n",
    "    #checking if any letter is used in word more times than it was in the hand  \n",
    "    for key,value in hand.items():\n",
    "        if value<0:\n",
    "            test=1\n",
    "            break\n",
    "\n",
    "                \n",
    "    if actual_word==True and test==0:\n",
    "        print(\"valid\")\n",
    "    else:\n",
    "        print(\"invalid\")"
   ]
  },
  {
   "cell_type": "code",
   "execution_count": null,
   "metadata": {},
   "outputs": [
    {
     "name": "stdout",
     "output_type": "stream",
     "text": [
      "bcdfghjklmnpqrstvwxyzbcdfghjklmnpqrstvwxyz aeiou\n"
     ]
    }
   ],
   "source": [
    "import string\n",
    "lower_alphabet=string.ascii_letters.lower()\n",
    "\n",
    "vowels=\"aeiou\"\n",
    "lower_alphabet=str(lower_alphabet)\n",
    "consonants=lower_alphabet\n",
    "for char in vowels:\n",
    "    consonants=consonants.replace(char,\"\")\n",
    "print(consonants,vowels)"
   ]
  },
  {
   "cell_type": "code",
   "execution_count": null,
   "metadata": {},
   "outputs": [],
   "source": [
    "#deal hand with wildcard\n",
    "def deal_hand_wc(n):\n",
    "    hand={}\n",
    "    random_letter=''\n",
    "    def adding_tohand(random_letter):\n",
    "        freq=hand.setdefault(random_letter,0)\n",
    "        hand[random_letter]=freq+1\n",
    "\n",
    "    for num in range(round(n/3)):\n",
    "        random_letter=random.choice(vowels)\n",
    "        adding_tohand(random_letter)\n",
    "        \n",
    "    for num in range(n-round(n/3)):\n",
    "        random_letter=random.choice(consonants)\n",
    "        adding_tohand(random_letter)\n",
    "    \n",
    "    adding_tohand('*')\n",
    "    \n",
    "    return hand"
   ]
  },
  {
   "cell_type": "code",
   "execution_count": null,
   "metadata": {},
   "outputs": [],
   "source": [
    "#check if word is valid-wildcard\n",
    "def is_valid_word_wc(hand,word):\n",
    "    \n",
    "    actual_word=False\n",
    "    #checking if word is valid\n",
    "    ##if word has wildcard\n",
    "    \n",
    "    def check_valid(word):\n",
    "        check=False\n",
    "        for right_word in valid_words.split(' '):\n",
    "            if right_word==word: \n",
    "                check=True\n",
    "        return check\n",
    "    \n",
    "    word_1=word\n",
    "    if '*' in word:\n",
    "        for vowel in vowels:\n",
    "            word=word_1.replace('*',vowel)\n",
    "            actual_word=check_valid(word)\n",
    "            if actual_word==True:\n",
    "                break\n",
    "    else:\n",
    "        actual_word=check_valid(word_1)\n",
    "\n",
    "    \n",
    "    #checking if word made of letters in hand\n",
    "    test=0\n",
    "\n",
    "    for letter in list(word_1):\n",
    "        if letter in hand.keys():\n",
    "            hand[letter]-=1\n",
    "        elif letter in list(vowels):\n",
    "            hand['*']-=1\n",
    "        else:\n",
    "            test=1\n",
    "            break\n",
    "\n",
    "    #if word made from letters in hand, checking if any letter used more times in word than it was available in hand\n",
    "    if test==0:\n",
    "        neg_hand={k:v for (k,v) in hand.items() if v<0}\n",
    "        if len(neg_hand)>0:\n",
    "            test=1\n",
    "            \n",
    "\n",
    "    if actual_word==True and test==0:\n",
    "        result=\"valid\"\n",
    "    else:\n",
    "        result=\"invalid\"\n",
    "        \n",
    "    return result,word,hand"
   ]
  },
  {
   "cell_type": "code",
   "execution_count": null,
   "metadata": {},
   "outputs": [],
   "source": [
    "def substitute(hand,lower_alphabet):\n",
    "    print(\"Current Hand: \",display_hand(hand))\n",
    "    subs_decision=input(\"Would you like to substitute a letter?\")\n",
    "    assert subs_decision=='y' or subs_decision=='n',print(\"enter Yes or No\")\n",
    "    if subs_decision=='y':\n",
    "        letter_replace=input(\"Which letter would you like to replace:\")\n",
    "        hand[letter_replace]-=1\n",
    "        lower_alphabet=lower_alphabet.replace(letter_replace,'')\n",
    "        random_letter=random.choice(lower_alphabet)\n",
    "        freq=hand.setdefault(random_letter,0)\n",
    "        hand[random_letter]=freq+1\n",
    "    return hand"
   ]
  },
  {
   "cell_type": "code",
   "execution_count": null,
   "metadata": {},
   "outputs": [],
   "source": [
    "def play_hand_1(**kwargs):\n",
    "    hand=deal_hand_wc(kwargs['hand_size'])\n",
    "    hand_1={}\n",
    "    play='yes'\n",
    "    total_score=0\n",
    "    hand=substitute(hand,lower_alphabet)\n",
    "    while (play=='yes'):\n",
    "        hand_fordisplay=display_hand(hand)\n",
    "        if len(hand_fordisplay)>0:\n",
    "            print(\"Current Hand: \",hand_fordisplay)\n",
    "            word=input(\"Enter word, or !! to indicate that you are finished:\")\n",
    "            \n",
    "            if word!='!!':\n",
    "            \n",
    "                valid_ornot,word,hand=is_valid_word_wc(hand,word)\n",
    "                if valid_ornot=='invalid':\n",
    "                    print(\"That is not a valid word. Please choose another word\")\n",
    "                    print()\n",
    "                    continue\n",
    "                else:\n",
    "                    word_score=get_word_score(word,hand)\n",
    "                    total_score+=word_score\n",
    "                    print(word,\"earned\",word_score,\"points. \",\"Total: \",total_score,\"points\")\n",
    "                    print()\n",
    "\n",
    "\n",
    "            else:\n",
    "                print(\"Total score for this hand: \",total_score,\"points\")\n",
    "                print('----------------------------------------')\n",
    "                play='no'\n",
    "        else:\n",
    "            print(\"Ran out of letters\")\n",
    "            print(\"Total score for this hand: \",total_score,\"points\")\n",
    "            print('----------------------------------------')\n",
    "            play='no'\n",
    "    return total_score"
   ]
  },
  {
   "cell_type": "code",
   "execution_count": null,
   "metadata": {
    "scrolled": true
   },
   "outputs": [],
   "source": [
    "def play_game():\n",
    "    num_hands=input(\"Enter total number of hands:\")\n",
    "    total_acrosshands=0\n",
    "    for num in np.arange(int(num_hands)):\n",
    "        total_score_hand=0\n",
    "        total_score_hand=play_hand_1(hand_size=7)\n",
    "        replay_ornot=input(\"Would you like to replay the hand? \")\n",
    "        if replay_ornot=='y':\n",
    "            total_score_hand=play_hand_1(hand_size=7)\n",
    "            total_acrosshands+=total_score_hand\n",
    "        else:\n",
    "            total_acrosshands+=total_score_hand\n",
    "            continue\n",
    "    print('-------------')\n",
    "    print('Total score over all hands: ',total_acrosshands)"
   ]
  },
  {
   "cell_type": "code",
   "execution_count": null,
   "metadata": {},
   "outputs": [
    {
     "name": "stdout",
     "output_type": "stream",
     "text": [
      "Enter total number of hands:2\n",
      "Current Hand:  * f g n q u u z \n",
      "Would you like to substitute a letter?y\n",
      "Which letter would you like to replace:z\n",
      "Current Hand:  * f g n q u u x \n",
      "Enter word, or !! to indicate that you are finished:f*x\n",
      "fix earned 18 points.  Total:  18 points\n",
      "\n",
      "Current Hand:  g n q u u \n",
      "Enter word, or !! to indicate that you are finished:gun\n",
      "gun earned 19 points.  Total:  37 points\n",
      "\n",
      "Current Hand:  q u \n",
      "Enter word, or !! to indicate that you are finished:!!\n",
      "Total score for this hand:  37 points\n",
      "----------------------------------------\n",
      "Would you like to replay the hand? y\n",
      "Current Hand:  * b f g m n o o \n",
      "Would you like to substitute a letter?y\n",
      "Which letter would you like to replace:o\n",
      "Current Hand:  * b f g m n o p \n",
      "Enter word, or !! to indicate that you are finished:mop\n",
      "mop earned 18 points.  Total:  18 points\n",
      "\n",
      "Current Hand:  * b f g n \n",
      "Enter word, or !! to indicate that you are finished:f*n\n",
      "fan earned 23 points.  Total:  41 points\n",
      "\n",
      "Current Hand:  b g \n",
      "Enter word, or !! to indicate that you are finished:!!\n",
      "Total score for this hand:  41 points\n",
      "----------------------------------------\n",
      "Current Hand:  * d i k q q u x \n",
      "Would you like to substitute a letter?y\n",
      "Which letter would you like to replace:q\n",
      "Current Hand:  * d i k k q u x \n",
      "Enter word, or !! to indicate that you are finished:dik*\n",
      "dike earned 45 points.  Total:  45 points\n",
      "\n",
      "Current Hand:  k q u x \n",
      "Enter word, or !! to indicate that you are finished:!!\n",
      "Total score for this hand:  45 points\n",
      "----------------------------------------\n",
      "Would you like to replay the hand? y\n",
      "Current Hand:  * a e m n p v x \n",
      "Would you like to substitute a letter?y\n",
      "Which letter would you like to replace:x\n",
      "Current Hand:  * a e g m n p v \n",
      "Enter word, or !! to indicate that you are finished:pane\n",
      "pane earned 42 points.  Total:  42 points\n",
      "\n",
      "Current Hand:  * g m v \n",
      "Enter word, or !! to indicate that you are finished:g*\n",
      "go earned 12 points.  Total:  54 points\n",
      "\n",
      "Current Hand:  m v \n",
      "Enter word, or !! to indicate that you are finished:!!\n",
      "Total score for this hand:  54 points\n",
      "----------------------------------------\n",
      "-------------\n",
      "Total score over all hands:  95\n"
     ]
    }
   ],
   "source": [
    "play_game()"
   ]
  },
  {
   "cell_type": "code",
   "execution_count": null,
   "metadata": {},
   "outputs": [],
   "source": []
  },
  {
   "cell_type": "code",
   "execution_count": null,
   "metadata": {},
   "outputs": [],
   "source": [
    "\n",
    "    "
   ]
  },
  {
   "cell_type": "code",
   "execution_count": null,
   "metadata": {},
   "outputs": [],
   "source": []
  },
  {
   "cell_type": "code",
   "execution_count": null,
   "metadata": {},
   "outputs": [],
   "source": []
  },
  {
   "cell_type": "code",
   "execution_count": null,
   "metadata": {},
   "outputs": [],
   "source": []
  },
  {
   "cell_type": "code",
   "execution_count": null,
   "metadata": {},
   "outputs": [],
   "source": []
  },
  {
   "cell_type": "code",
   "execution_count": null,
   "metadata": {},
   "outputs": [],
   "source": []
  },
  {
   "cell_type": "code",
   "execution_count": null,
   "metadata": {},
   "outputs": [],
   "source": []
  },
  {
   "cell_type": "code",
   "execution_count": null,
   "metadata": {},
   "outputs": [],
   "source": []
  },
  {
   "cell_type": "code",
   "execution_count": null,
   "metadata": {},
   "outputs": [],
   "source": []
  },
  {
   "cell_type": "code",
   "execution_count": null,
   "metadata": {},
   "outputs": [],
   "source": []
  },
  {
   "cell_type": "code",
   "execution_count": null,
   "metadata": {},
   "outputs": [],
   "source": []
  },
  {
   "cell_type": "code",
   "execution_count": null,
   "metadata": {},
   "outputs": [],
   "source": []
  },
  {
   "cell_type": "code",
   "execution_count": null,
   "metadata": {},
   "outputs": [],
   "source": []
  },
  {
   "cell_type": "code",
   "execution_count": null,
   "metadata": {},
   "outputs": [],
   "source": []
  },
  {
   "cell_type": "code",
   "execution_count": null,
   "metadata": {},
   "outputs": [],
   "source": []
  },
  {
   "cell_type": "code",
   "execution_count": null,
   "metadata": {},
   "outputs": [],
   "source": []
  },
  {
   "cell_type": "code",
   "execution_count": null,
   "metadata": {},
   "outputs": [],
   "source": []
  },
  {
   "cell_type": "code",
   "execution_count": null,
   "metadata": {},
   "outputs": [],
   "source": []
  },
  {
   "cell_type": "code",
   "execution_count": null,
   "metadata": {},
   "outputs": [],
   "source": []
  },
  {
   "cell_type": "code",
   "execution_count": null,
   "metadata": {},
   "outputs": [],
   "source": []
  },
  {
   "cell_type": "code",
   "execution_count": null,
   "metadata": {},
   "outputs": [],
   "source": []
  }
 ],
 "metadata": {
  "kernelspec": {
   "display_name": "Python 3",
   "language": "python",
   "name": "python3"
  },
  "language_info": {
   "codemirror_mode": {
    "name": "ipython",
    "version": 3
   },
   "file_extension": ".py",
   "mimetype": "text/x-python",
   "name": "python",
   "nbconvert_exporter": "python",
   "pygments_lexer": "ipython3",
   "version": "3.7.3"
  }
 },
 "nbformat": 4,
 "nbformat_minor": 2
}
